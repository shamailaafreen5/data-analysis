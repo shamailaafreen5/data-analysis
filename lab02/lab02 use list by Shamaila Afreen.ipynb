{
 "cells": [
  {
   "cell_type": "markdown",
   "metadata": {},
   "source": [
    "# CI280 Lab02 – List\n",
    "Upload your answer to GitHub\n",
    "\n",
    "Email the link to: jzhang@eastwest.edu\n",
    "\n",
    "Name: _________________\n"
   ]
  },
  {
   "cell_type": "markdown",
   "metadata": {},
   "source": [
    "# A. Show the output: ( 10 pts)"
   ]
  },
  {
   "cell_type": "code",
   "execution_count": 1,
   "metadata": {},
   "outputs": [
    {
     "name": "stdout",
     "output_type": "stream",
     "text": [
      "[50, 20, 10, 80, 10]\n",
      "10\n"
     ]
    }
   ],
   "source": [
    "numbers = [50, 20, 10, 80, 10]\n",
    "print(numbers)\n",
    "print(numbers[2])\n",
    "\n"
   ]
  },
  {
   "cell_type": "code",
   "execution_count": 2,
   "metadata": {},
   "outputs": [
    {
     "name": "stdout",
     "output_type": "stream",
     "text": [
      "max = 80\n",
      "3\n"
     ]
    }
   ],
   "source": [
    "max_value = max(numbers)\n",
    "max_index = numbers.index(max_value)\n",
    "print('max =',max_value)\n",
    "print(max_index)"
   ]
  },
  {
   "cell_type": "code",
   "execution_count": 3,
   "metadata": {},
   "outputs": [
    {
     "name": "stdout",
     "output_type": "stream",
     "text": [
      "min = 10\n",
      "2\n"
     ]
    }
   ],
   "source": [
    "min_value = min(numbers)\n",
    "min_index = numbers.index(min_value)\n",
    "print('min =',min_value)\n",
    "print(min_index)"
   ]
  },
  {
   "cell_type": "code",
   "execution_count": 4,
   "metadata": {},
   "outputs": [
    {
     "name": "stdout",
     "output_type": "stream",
     "text": [
      "length = 5\n",
      "element = 10\n"
     ]
    }
   ],
   "source": [
    "print('length =',len(numbers))\n",
    "print('element =',numbers[len(numbers)-1])"
   ]
  },
  {
   "cell_type": "code",
   "execution_count": 5,
   "metadata": {},
   "outputs": [
    {
     "name": "stdout",
     "output_type": "stream",
     "text": [
      "['steven', 'will', 'alicia']\n"
     ]
    }
   ],
   "source": [
    "names = ['steven', 'will', 'alicia']\n",
    "print(names)"
   ]
  },
  {
   "cell_type": "code",
   "execution_count": 6,
   "metadata": {},
   "outputs": [
    {
     "name": "stdout",
     "output_type": "stream",
     "text": [
      "--\n",
      "steven\n",
      "will\n",
      "alicia\n"
     ]
    }
   ],
   "source": [
    "print('--')\n",
    "for name in names :\n",
    "    print(name)"
   ]
  },
  {
   "cell_type": "code",
   "execution_count": 7,
   "metadata": {},
   "outputs": [
    {
     "name": "stdout",
     "output_type": "stream",
     "text": [
      "--\n",
      "alicia\n"
     ]
    }
   ],
   "source": [
    "print('--')\n",
    "index = 2\n",
    "while index < len(names):\n",
    "    print(names[index])\n",
    "    index +=1"
   ]
  },
  {
   "cell_type": "code",
   "execution_count": 8,
   "metadata": {},
   "outputs": [
    {
     "name": "stdout",
     "output_type": "stream",
     "text": [
      "[0, 5, 10, 15]\n"
     ]
    }
   ],
   "source": [
    "num1 = list(range(0, 20, 5))\n",
    "print(num1)\n"
   ]
  },
  {
   "cell_type": "code",
   "execution_count": 9,
   "metadata": {},
   "outputs": [
    {
     "name": "stdout",
     "output_type": "stream",
     "text": [
      "[0, 5, 10, 15, 0, 5, 10, 15, 0, 5, 10, 15]\n"
     ]
    }
   ],
   "source": [
    "num2 = num1 *3\n",
    "print(num2)"
   ]
  },
  {
   "cell_type": "code",
   "execution_count": 10,
   "metadata": {},
   "outputs": [
    {
     "name": "stdout",
     "output_type": "stream",
     "text": [
      "[0, 15, 30, 45]\n"
     ]
    }
   ],
   "source": [
    "index = 0\n",
    "while index < len(num1):\n",
    "    num1[index] = num1[index]*3\n",
    "    index += 1\n",
    "print(num1)    "
   ]
  },
  {
   "cell_type": "code",
   "execution_count": 11,
   "metadata": {},
   "outputs": [
    {
     "name": "stdout",
     "output_type": "stream",
     "text": [
      "90\n",
      "22.5\n"
     ]
    }
   ],
   "source": [
    "print(sum(num1))\n",
    "print(sum(num1)/ len (num1))"
   ]
  },
  {
   "cell_type": "code",
   "execution_count": 12,
   "metadata": {},
   "outputs": [
    {
     "name": "stdout",
     "output_type": "stream",
     "text": [
      "[0, 10, 20, 30, 40, 50, 60, 70, 80, 90, 100]\n"
     ]
    }
   ],
   "source": [
    "numbers = list(range(0, 101, 10))\n",
    "print(numbers)\n"
   ]
  },
  {
   "cell_type": "code",
   "execution_count": 13,
   "metadata": {},
   "outputs": [
    {
     "name": "stdout",
     "output_type": "stream",
     "text": [
      "[0, 10, 20, 30, 40]\n",
      "[20, 30, 40]\n",
      "[70, 80, 90, 100]\n",
      "[80, 90, 100]\n"
     ]
    }
   ],
   "source": [
    "print(numbers[:5])\n",
    "print(numbers[2:5])\n",
    "print(numbers[7:])\n",
    "print(numbers[-3:])"
   ]
  },
  {
   "cell_type": "code",
   "execution_count": 14,
   "metadata": {},
   "outputs": [
    {
     "name": "stdout",
     "output_type": "stream",
     "text": [
      "['chicago', 'paris']\n"
     ]
    }
   ],
   "source": [
    "cities = ['chicago', 'paris']\n",
    "print(cities)"
   ]
  },
  {
   "cell_type": "code",
   "execution_count": 15,
   "metadata": {},
   "outputs": [
    {
     "name": "stdout",
     "output_type": "stream",
     "text": [
      "1\n"
     ]
    }
   ],
   "source": [
    "city_index = cities.index('paris')\n",
    "print(city_index)"
   ]
  },
  {
   "cell_type": "code",
   "execution_count": 16,
   "metadata": {},
   "outputs": [
    {
     "name": "stdout",
     "output_type": "stream",
     "text": [
      "['chicago', 'new york', 'paris']\n"
     ]
    }
   ],
   "source": [
    "cities.insert(1, 'new york')\n",
    "print(cities)"
   ]
  },
  {
   "cell_type": "code",
   "execution_count": 17,
   "metadata": {},
   "outputs": [
    {
     "name": "stdout",
     "output_type": "stream",
     "text": [
      "['paris', 'new york', 'chicago']\n"
     ]
    }
   ],
   "source": [
    "cities.reverse()\n",
    "print(cities)"
   ]
  },
  {
   "cell_type": "code",
   "execution_count": 18,
   "metadata": {},
   "outputs": [
    {
     "name": "stdout",
     "output_type": "stream",
     "text": [
      "['chicago', 'new york', 'paris']\n"
     ]
    }
   ],
   "source": [
    "cities.sort()\n",
    "print(cities)"
   ]
  },
  {
   "cell_type": "code",
   "execution_count": 19,
   "metadata": {},
   "outputs": [
    {
     "name": "stdout",
     "output_type": "stream",
     "text": [
      "['chicago', 'paris']\n"
     ]
    }
   ],
   "source": [
    "cities.remove('new york')\n",
    "print(cities)"
   ]
  },
  {
   "cell_type": "code",
   "execution_count": 22,
   "metadata": {},
   "outputs": [
    {
     "data": {
      "text/plain": [
       "['sunday', 'monday', 'tuesday', 'wednesday', 'thursday', 'friday', 'saturday']"
      ]
     },
     "execution_count": 22,
     "metadata": {},
     "output_type": "execute_result"
    }
   ],
   "source": [
    "# variables\n",
    "total_sales = 0.0\n",
    "\n",
    "#inutial lists\n",
    "daily_sales = [0.0, 0.0, 0.0, 0.0, 0.0, 0.0, 0.0]\n",
    "days_of_week = ['sunday', 'monday', 'tuesday', 'wednesday', 'thursday', 'friday', 'saturday']\n",
    "\n",
    "days_of_week\n",
    "\n",
    "\n",
    "\n",
    "    "
   ]
  },
  {
   "cell_type": "code",
   "execution_count": 23,
   "metadata": {},
   "outputs": [
    {
     "name": "stdout",
     "output_type": "stream",
     "text": [
      "enter the sales forsunday:100\n",
      "enter the sales formonday:200\n",
      "enter the sales fortuesday:100\n",
      "enter the sales forwednesday:300\n",
      "enter the sales forthursday:400\n",
      "enter the sales forfriday:500\n",
      "enter the sales forsaturday:100\n"
     ]
    }
   ],
   "source": [
    "for i in range(7):\n",
    "    daily_sales[i] = float(input('enter the sales for' + days_of_week[i] + ':'))\n",
    "\n"
   ]
  },
  {
   "cell_type": "code",
   "execution_count": 24,
   "metadata": {},
   "outputs": [
    {
     "name": "stdout",
     "output_type": "stream",
     "text": [
      "weekly sales\n",
      "---------\n"
     ]
    }
   ],
   "source": [
    "print('weekly sales')\n",
    "print('---------')"
   ]
  },
  {
   "cell_type": "code",
   "execution_count": 26,
   "metadata": {},
   "outputs": [
    {
     "name": "stdout",
     "output_type": "stream",
     "text": [
      "sunday :$ 100.00\n",
      "monday :$ 200.00\n",
      "tuesday :$ 100.00\n",
      "wednesday :$ 300.00\n",
      "thursday :$ 400.00\n",
      "friday :$ 500.00\n",
      "saturday :$ 100.00\n"
     ]
    }
   ],
   "source": [
    "for index in range(7):\n",
    "    print(days_of_week [ index], ':$', format(daily_sales[index], ',.2f'))"
   ]
  },
  {
   "cell_type": "code",
   "execution_count": 31,
   "metadata": {},
   "outputs": [],
   "source": [
    "for number in daily_sales:\n",
    "    total_sales += number\n",
    "    \n",
    "highest = max(daily_sales)\n",
    "max_index = daily_sales.index(highest)\n",
    "\n",
    "lowest = min(daily_sales)\n",
    "min_index = daily_sales.index(lowest)\n",
    "avg_sales = sum(daily_sales)/len(daily_sales)"
   ]
  },
  {
   "cell_type": "code",
   "execution_count": 35,
   "metadata": {},
   "outputs": [
    {
     "name": "stdout",
     "output_type": "stream",
     "text": [
      "\n",
      "weekly sales summary\n",
      "----------------------\n",
      "total sales : $ 11,900.00\n",
      "average sales : $ 242.86\n",
      "the highest sale is in friday :$ 500.00\n",
      "the lowest sale is in sunday :$ 100.00\n"
     ]
    }
   ],
   "source": [
    "#display summary sales\n",
    "print('\\nweekly sales summary')\n",
    "print('----------------------')\n",
    "print('total sales : $', format(total_sales, ',.2f'))\n",
    "print('average sales : $', format(avg_sales, ',.2f'))\n",
    "print('the highest sale is in', days_of_week[max_index], ':$', format(highest, ',.2f'))\n",
    "print('the lowest sale is in', days_of_week[min_index], ':$', format(lowest, ',.2f'))\n"
   ]
  },
  {
   "cell_type": "code",
   "execution_count": null,
   "metadata": {},
   "outputs": [],
   "source": []
  }
 ],
 "metadata": {
  "kernelspec": {
   "display_name": "Python 3",
   "language": "python",
   "name": "python3"
  },
  "language_info": {
   "codemirror_mode": {
    "name": "ipython",
    "version": 3
   },
   "file_extension": ".py",
   "mimetype": "text/x-python",
   "name": "python",
   "nbconvert_exporter": "python",
   "pygments_lexer": "ipython3",
   "version": "3.7.6"
  }
 },
 "nbformat": 4,
 "nbformat_minor": 4
}
